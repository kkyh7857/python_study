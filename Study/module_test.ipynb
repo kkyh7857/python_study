{
 "cells": [
  {
   "cell_type": "code",
   "execution_count": null,
   "id": "2302cda4",
   "metadata": {},
   "outputs": [],
   "source": [
    "def number_sum(n1, n2):\n",
    "    result = n1 + n2\n",
    "    return result"
   ]
  },
  {
   "cell_type": "code",
   "execution_count": null,
   "id": "a0ae8998",
   "metadata": {},
   "outputs": [],
   "source": [
    "def cal(num1, num2, op):\n",
    "    '''덧셈과 뺄셈을 계산하는 함수'''\n",
    "    if op == '+':\n",
    "        return num1+num2\n",
    "    elif op == '-' :\n",
    "        return num1-num2\n",
    "    else :\n",
    "        return '뭐여! 시방 지금 장난하냐'"
   ]
  },
  {
   "cell_type": "code",
   "execution_count": null,
   "id": "f4a4741d",
   "metadata": {},
   "outputs": [],
   "source": [
    "def add(*n):\n",
    "    return sum(n)"
   ]
  },
  {
   "cell_type": "code",
   "execution_count": null,
   "id": "e4cffb3a",
   "metadata": {},
   "outputs": [],
   "source": [
    "def add_sub(num1, num2):\n",
    "    return num1+num2, num1-num2"
   ]
  },
  {
   "cell_type": "code",
   "execution_count": null,
   "id": "bb2544eb",
   "metadata": {},
   "outputs": [],
   "source": [
    "def power_of_N(num, power=2):\n",
    "    return num**power"
   ]
  }
 ],
 "metadata": {
  "kernelspec": {
   "display_name": "Python 3",
   "language": "python",
   "name": "python3"
  },
  "language_info": {
   "codemirror_mode": {
    "name": "ipython",
    "version": 3
   },
   "file_extension": ".py",
   "mimetype": "text/x-python",
   "name": "python",
   "nbconvert_exporter": "python",
   "pygments_lexer": "ipython3",
   "version": "3.8.8"
  }
 },
 "nbformat": 4,
 "nbformat_minor": 5
}
