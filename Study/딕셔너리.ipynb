{
 "cells": [
  {
   "cell_type": "code",
   "execution_count": 1,
   "id": "17162add",
   "metadata": {
    "scrolled": true
   },
   "outputs": [
    {
     "data": {
      "text/plain": [
       "{'name': 'jy', 'age': '20', 'phone': '010-1234-1234'}"
      ]
     },
     "execution_count": 1,
     "metadata": {},
     "output_type": "execute_result"
    }
   ],
   "source": [
    "dic1 = {'name':'jy', 'age':'20','phone':'010-1234-1234'}\n",
    "dic1"
   ]
  },
  {
   "cell_type": "code",
   "execution_count": 6,
   "id": "5d094582",
   "metadata": {},
   "outputs": [
    {
     "name": "stdout",
     "output_type": "stream",
     "text": [
      "<class 'dict'>\n"
     ]
    }
   ],
   "source": [
    "print(type(dic1))"
   ]
  },
  {
   "cell_type": "code",
   "execution_count": 1,
   "id": "a7b56a08",
   "metadata": {},
   "outputs": [
    {
     "data": {
      "text/plain": [
       "{'name': 'JY', 'age': 20, 'phone': '010-1234-1234'}"
      ]
     },
     "execution_count": 1,
     "metadata": {},
     "output_type": "execute_result"
    }
   ],
   "source": [
    "dic1 = {'name':'JY','age':20,'phone':'010-1234-1234'}\n",
    "dic1"
   ]
  },
  {
   "cell_type": "code",
   "execution_count": 2,
   "id": "676d12b6",
   "metadata": {},
   "outputs": [],
   "source": [
    "# 딕셔너리 추가\n",
    "dic1['birth']='12/07'"
   ]
  },
  {
   "cell_type": "code",
   "execution_count": 3,
   "id": "85a1bb9d",
   "metadata": {},
   "outputs": [
    {
     "data": {
      "text/plain": [
       "{'name': 'JY', 'age': 20, 'phone': '010-1234-1234', 'birth': '12/07'}"
      ]
     },
     "execution_count": 3,
     "metadata": {},
     "output_type": "execute_result"
    }
   ],
   "source": [
    "dic1"
   ]
  },
  {
   "cell_type": "code",
   "execution_count": 4,
   "id": "2b9c19fa",
   "metadata": {},
   "outputs": [
    {
     "data": {
      "text/plain": [
       "'JY'"
      ]
     },
     "execution_count": 4,
     "metadata": {},
     "output_type": "execute_result"
    }
   ],
   "source": [
    "#딕셔너리 값 가져오기\n",
    "dic1['name']"
   ]
  },
  {
   "cell_type": "code",
   "execution_count": 7,
   "id": "3aa8cd2f",
   "metadata": {},
   "outputs": [
    {
     "name": "stdout",
     "output_type": "stream",
     "text": [
      "None\n"
     ]
    }
   ],
   "source": [
    "sex = dic1.get('sex')\n",
    "print(sex)"
   ]
  },
  {
   "cell_type": "code",
   "execution_count": 8,
   "id": "e5a4a27f",
   "metadata": {},
   "outputs": [
    {
     "data": {
      "text/plain": [
       "dict_keys(['name', 'age', 'phone', 'birth'])"
      ]
     },
     "execution_count": 8,
     "metadata": {},
     "output_type": "execute_result"
    }
   ],
   "source": [
    "# key만 가져오기\n",
    "dic1.keys()"
   ]
  },
  {
   "cell_type": "code",
   "execution_count": 9,
   "id": "9907a69a",
   "metadata": {},
   "outputs": [
    {
     "data": {
      "text/plain": [
       "['name', 'age', 'phone', 'birth']"
      ]
     },
     "execution_count": 9,
     "metadata": {},
     "output_type": "execute_result"
    }
   ],
   "source": [
    "list(dic1.keys())"
   ]
  },
  {
   "cell_type": "code",
   "execution_count": 10,
   "id": "c5348569",
   "metadata": {},
   "outputs": [
    {
     "data": {
      "text/plain": [
       "dict_values(['JY', 20, '010-1234-1234', '12/07'])"
      ]
     },
     "execution_count": 10,
     "metadata": {},
     "output_type": "execute_result"
    }
   ],
   "source": [
    "# 값만 가져오기\n",
    "dic1.values()"
   ]
  },
  {
   "cell_type": "code",
   "execution_count": 11,
   "id": "7198d953",
   "metadata": {},
   "outputs": [
    {
     "data": {
      "text/plain": [
       "['JY', 20, '010-1234-1234', '12/07']"
      ]
     },
     "execution_count": 11,
     "metadata": {},
     "output_type": "execute_result"
    }
   ],
   "source": [
    "list(dic1.values())"
   ]
  },
  {
   "cell_type": "code",
   "execution_count": 12,
   "id": "c1787190",
   "metadata": {},
   "outputs": [
    {
     "name": "stdout",
     "output_type": "stream",
     "text": [
      "name\n",
      "age\n",
      "phone\n",
      "birth\n"
     ]
    }
   ],
   "source": [
    "for key in dic1.keys():\n",
    "    print(key)"
   ]
  },
  {
   "cell_type": "code",
   "execution_count": 15,
   "id": "e5351dbd",
   "metadata": {},
   "outputs": [
    {
     "name": "stdout",
     "output_type": "stream",
     "text": [
      "JY\n",
      "20\n",
      "010-1234-1234\n",
      "12/07\n"
     ]
    }
   ],
   "source": [
    "for value in dic1.values():\n",
    "    print(value)"
   ]
  },
  {
   "cell_type": "code",
   "execution_count": 16,
   "id": "811638e3",
   "metadata": {},
   "outputs": [
    {
     "name": "stdout",
     "output_type": "stream",
     "text": [
      "name JY\n",
      "age 20\n",
      "phone 010-1234-1234\n",
      "birth 12/07\n"
     ]
    }
   ],
   "source": [
    "for key,value in dic1.items():\n",
    "    print(key,value)"
   ]
  },
  {
   "cell_type": "code",
   "execution_count": 17,
   "id": "3f51eb04",
   "metadata": {},
   "outputs": [
    {
     "data": {
      "text/plain": [
       "dict_items([('name', 'JY'), ('age', 20), ('phone', '010-1234-1234'), ('birth', '12/07')])"
      ]
     },
     "execution_count": 17,
     "metadata": {},
     "output_type": "execute_result"
    }
   ],
   "source": [
    "dic1.items()"
   ]
  },
  {
   "cell_type": "code",
   "execution_count": 18,
   "id": "77d5cb81",
   "metadata": {},
   "outputs": [
    {
     "data": {
      "text/plain": [
       "True"
      ]
     },
     "execution_count": 18,
     "metadata": {},
     "output_type": "execute_result"
    }
   ],
   "source": [
    "'name' in dic1"
   ]
  },
  {
   "cell_type": "code",
   "execution_count": 19,
   "id": "3c40a31c",
   "metadata": {},
   "outputs": [],
   "source": [
    "del dic1['age']"
   ]
  },
  {
   "cell_type": "code",
   "execution_count": 20,
   "id": "bf8dd227",
   "metadata": {},
   "outputs": [
    {
     "data": {
      "text/plain": [
       "{'name': 'JY', 'phone': '010-1234-1234', 'birth': '12/07'}"
      ]
     },
     "execution_count": 20,
     "metadata": {},
     "output_type": "execute_result"
    }
   ],
   "source": [
    "dic1"
   ]
  },
  {
   "cell_type": "code",
   "execution_count": 21,
   "id": "b1d1a67e",
   "metadata": {},
   "outputs": [],
   "source": [
    "dic1.clear()"
   ]
  },
  {
   "cell_type": "code",
   "execution_count": 22,
   "id": "b1814620",
   "metadata": {},
   "outputs": [
    {
     "data": {
      "text/plain": [
       "{}"
      ]
     },
     "execution_count": 22,
     "metadata": {},
     "output_type": "execute_result"
    }
   ],
   "source": [
    "dic1"
   ]
  },
  {
   "cell_type": "code",
   "execution_count": null,
   "id": "905409f8",
   "metadata": {},
   "outputs": [],
   "source": []
  }
 ],
 "metadata": {
  "kernelspec": {
   "display_name": "Python 3",
   "language": "python",
   "name": "python3"
  },
  "language_info": {
   "codemirror_mode": {
    "name": "ipython",
    "version": 3
   },
   "file_extension": ".py",
   "mimetype": "text/x-python",
   "name": "python",
   "nbconvert_exporter": "python",
   "pygments_lexer": "ipython3",
   "version": "3.8.8"
  }
 },
 "nbformat": 4,
 "nbformat_minor": 5
}
