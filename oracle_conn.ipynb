{
 "cells": [
  {
   "cell_type": "code",
   "execution_count": 1,
   "id": "f299d418",
   "metadata": {
    "scrolled": true
   },
   "outputs": [
    {
     "name": "stdout",
     "output_type": "stream",
     "text": [
      "Collecting cx_Oracle\n",
      "  Downloading cx_Oracle-8.3.0-cp38-cp38-win_amd64.whl (219 kB)\n",
      "Installing collected packages: cx-Oracle\n",
      "Successfully installed cx-Oracle-8.3.0\n"
     ]
    }
   ],
   "source": [
    "!pip install cx_Oracle --upgrade"
   ]
  },
  {
   "cell_type": "code",
   "execution_count": 2,
   "id": "f7640f16",
   "metadata": {},
   "outputs": [],
   "source": [
    "import cx_Oracle\n",
    "import os\n",
    "\n",
    "LOCATION = r\"C:\\instantclient_21_3\"\n",
    "os.environ[\"PATH\"] = LOCATION + \";\" + os.environ[\"PATH\"] #환경변수 등록"
   ]
  },
  {
   "cell_type": "code",
   "execution_count": 4,
   "id": "6698e477",
   "metadata": {},
   "outputs": [],
   "source": [
    "connect = cx_Oracle.connect(\"fipl\", \"fipl\", \"project-db-stu.ddns.net:1524\")\n",
    "cursor = connect.cursor()"
   ]
  },
  {
   "cell_type": "code",
   "execution_count": 5,
   "id": "371327b2",
   "metadata": {
    "scrolled": true
   },
   "outputs": [
    {
     "name": "stdout",
     "output_type": "stream",
     "text": [
      "('131938', '1111', '이안수', '010-6081-2750', 'lansoo@gmail.com', 1, '0')\n",
      "('131939', '0000', '이행식', '010-6081-2810', 'lhangsik@gmail.com', 1, '0')\n",
      "('131940', '0000', '이경석', '010-6081-2950', 'lkstone@gmail.com', 1, '0')\n",
      "('131941', '0000', '정재호', '010-6081-2900', 'jhtiger@gmail.com', 1, '0')\n",
      "('240943', '0000', '정계순', '010-3602-7470', 'jungchicken@gmail.com', 2, '0')\n",
      "('240944', '0000', '강경록', '010-3602-7409', 'kangkrock@gmail.com', 2, '0')\n",
      "('240945', '0000', '박윤철', '010-3602-7406', 'parkyiron@gmail.com', 2, '0')\n",
      "('240946', '0000', '권순진', '010-3502-4080', 'knaive@gmail.com', 2, '0')\n",
      "('201405', '0000', '노욱환', '010-6073-3900', 'nogetangry@gmail.com', 3, '0')\n",
      "('201406', '0000', '이정권', '010-6073-2900', 'leepower@gmail.com', 3, '0')\n",
      "('201407', '0000', '김광주', '010-6073-4000', 'kgwangju@gmail.com', 3, '0')\n",
      "('201408', '0000', '박영일', '010-6073-4290', 'parkzero1@gmail.com', 3, '0')\n",
      "('201845', '0000', '박태성', '010-4104-6026', 'parktstar@gmail.com', 4, '0')\n",
      "('201846', '0000', '허성민', '010-4104-6027', 'hstartpeople@gmail.com', 4, '0')\n",
      "('201847', '0000', '최종만', '010-4104-8900', 'choismall@gmail.com', 4, '0')\n",
      "('201848', '0000', '나정곤', '010-4104-6032', 'mejonggon@gmail.com', 4, '0')\n",
      "('201551', '0000', '김동명', '010-9605-8520', 'kdongname@gmail.com', 5, '0')\n",
      "('201552', '0000', '전상희', '010-9605-8550', 'jeonstore@gmail.com', 5, '0')\n",
      "('201553', '0000', '오승민', '010-9605-8270', 'fivewinmin@gmail.com', 5, '0')\n",
      "('201554', '0000', '김정미', '010-9605-8700', 'kimrice@gmail.com', 5, '0')\n"
     ]
    }
   ],
   "source": [
    "# SQL\n",
    "cursor.execute(\"select * from employees\")\n",
    "\n",
    "for i in cursor:\n",
    "    print(i)\n"
   ]
  },
  {
   "cell_type": "code",
   "execution_count": null,
   "id": "bae4e904",
   "metadata": {},
   "outputs": [],
   "source": []
  },
  {
   "cell_type": "code",
   "execution_count": null,
   "id": "0535c0df",
   "metadata": {},
   "outputs": [],
   "source": []
  },
  {
   "cell_type": "code",
   "execution_count": null,
   "id": "ddcdd444",
   "metadata": {},
   "outputs": [],
   "source": []
  }
 ],
 "metadata": {
  "kernelspec": {
   "display_name": "Python 3",
   "language": "python",
   "name": "python3"
  },
  "language_info": {
   "codemirror_mode": {
    "name": "ipython",
    "version": 3
   },
   "file_extension": ".py",
   "mimetype": "text/x-python",
   "name": "python",
   "nbconvert_exporter": "python",
   "pygments_lexer": "ipython3",
   "version": "3.8.8"
  }
 },
 "nbformat": 4,
 "nbformat_minor": 5
}
