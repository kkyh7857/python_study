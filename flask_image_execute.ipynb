{
 "cells": [
  {
   "cell_type": "code",
   "execution_count": null,
   "id": "727bfc40",
   "metadata": {
    "scrolled": true
   },
   "outputs": [],
   "source": [
    "# coding = utf-8\n",
    "\n",
    "from flask import Flask, render_template \n",
    " \n",
    " \n",
    "app = Flask(__name__)\n",
    " \n",
    "@app.route(\"/\")\n",
    "def home():\n",
    "    return render_template('img_test2.html', image_file='image/1.jpg')\n",
    " \n",
    "if __name__ == \"__main__\":\n",
    "    app.run()"
   ]
  },
  {
   "cell_type": "code",
   "execution_count": 15,
   "id": "1882a275",
   "metadata": {
    "scrolled": true
   },
   "outputs": [
    {
     "name": "stdout",
     "output_type": "stream",
     "text": [
      " * Serving Flask app \"__main__\" (lazy loading)\n",
      " * Environment: production\n",
      "   WARNING: This is a development server. Do not use it in a production deployment.\n",
      "   Use a production WSGI server instead.\n",
      " * Debug mode: off\n"
     ]
    },
    {
     "name": "stderr",
     "output_type": "stream",
     "text": [
      " * Running on http://127.0.0.1:5000/ (Press CTRL+C to quit)\n",
      "127.0.0.1 - - [18/Dec/2021 11:38:34] \"\u001b[37mGET /img HTTP/1.1\u001b[0m\" 200 -\n",
      "127.0.0.1 - - [18/Dec/2021 11:39:47] \"\u001b[37mGET /img HTTP/1.1\u001b[0m\" 200 -\n"
     ]
    }
   ],
   "source": [
    "from flask import Flask, render_template \n",
    "\n",
    "\n",
    "app = Flask(__name__)\n",
    "\n",
    "@app.route('/img', methods=['GET','POST'])\n",
    "def home() :\n",
    "    return render_template('img_test2.html', image_file1='image/1.jpg', image_file2='image/2.jpg', image_file3='image/3.jpg', image_file4='image/4.jpg', image_file5='image/5.jpg')\n",
    "\n",
    "if __name__ == \"__main__\":\n",
    "    app.run()"
   ]
  }
 ],
 "metadata": {
  "kernelspec": {
   "display_name": "Python 3",
   "language": "python",
   "name": "python3"
  },
  "language_info": {
   "codemirror_mode": {
    "name": "ipython",
    "version": 3
   },
   "file_extension": ".py",
   "mimetype": "text/x-python",
   "name": "python",
   "nbconvert_exporter": "python",
   "pygments_lexer": "ipython3",
   "version": "3.8.8"
  }
 },
 "nbformat": 4,
 "nbformat_minor": 5
}
